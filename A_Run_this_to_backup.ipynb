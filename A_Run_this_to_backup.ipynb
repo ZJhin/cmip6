{
 "cells": [
  {
   "cell_type": "code",
   "execution_count": 2,
   "id": "8715b214-2783-4138-a803-4b07aa091279",
   "metadata": {
    "tags": []
   },
   "outputs": [
    {
     "name": "stdout",
     "output_type": "stream",
     "text": [
      "[main 3abd022] Back up\n",
      " Committer: Zijin Chen <zc0441@gadi-cpu-bdw-0004.gadi.nci.org.au>\n",
      "Your name and email address were configured automatically based\n",
      "on your username and hostname. Please check that they are accurate.\n",
      "You can suppress this message by setting them explicitly. Run the\n",
      "following command and follow the instructions in your editor to edit\n",
      "your configuration file:\n",
      "\n",
      "    git config --global --edit\n",
      "\n",
      "After doing this, you may fix the identity used for this commit with:\n",
      "\n",
      "    git commit --amend --reset-author\n",
      "\n",
      " 5 files changed, 64 insertions(+), 6 deletions(-)\n",
      " rename .ipynb_checkpoints/{Back_file-checkpoint.ipynb => A_Run_this_to_backup-checkpoint.ipynb} (100%)\n",
      " rename .ipynb_checkpoints/{A_buo_flux_v3-checkpoint.ipynb => Buo_flux_v3-checkpoint.ipynb} (100%)\n",
      " create mode 100644 A_Run_this_to_backup.ipynb\n",
      " delete mode 100644 Back_file.ipynb\n",
      " rename A_buo_flux_v3.ipynb => Buo_flux_v3.ipynb (100%)\n"
     ]
    },
    {
     "name": "stderr",
     "output_type": "stream",
     "text": [
      "To github.com:ZJhin/cmip6.git\n",
      "   4c64a69..3abd022  main -> main\n"
     ]
    },
    {
     "data": {
      "text/plain": [
       "0"
      ]
     },
     "execution_count": 2,
     "metadata": {},
     "output_type": "execute_result"
    }
   ],
   "source": [
    "import os\n",
    "\n",
    "# Change to the target directory\n",
    "os.chdir('/g/data/jk72/zc0441/Subject_1/Files_for_backup/')\n",
    "\n",
    "# # Initialize a new Git repository\n",
    "# os.system('git init')\n",
    "\n",
    "# Add all files to the Git repository\n",
    "os.system('git add .')\n",
    "\n",
    "# Commit the changes\n",
    "os.system('git commit -m \"Back up\"')\n",
    "\n",
    "# # Add a remote repository\n",
    "# remote_url = 'git@github.com:ZJhin/CMIP6-code.git'  # Replace with your remote repository URL\n",
    "# os.system(f'git remote add origin {remote_url}')\n",
    "\n",
    "# Push the commits to the remote repository\n",
    "os.system('git push origin main')"
   ]
  },
  {
   "cell_type": "code",
   "execution_count": null,
   "id": "a2f9c39c-3c95-45a5-a2df-9e6c91cfb0b2",
   "metadata": {},
   "outputs": [],
   "source": []
  }
 ],
 "metadata": {
  "kernelspec": {
   "display_name": "Python 3 (ipykernel)",
   "language": "python",
   "name": "python3"
  },
  "language_info": {
   "codemirror_mode": {
    "name": "ipython",
    "version": 3
   },
   "file_extension": ".py",
   "mimetype": "text/x-python",
   "name": "python",
   "nbconvert_exporter": "python",
   "pygments_lexer": "ipython3",
   "version": "3.9.15"
  }
 },
 "nbformat": 4,
 "nbformat_minor": 5
}
