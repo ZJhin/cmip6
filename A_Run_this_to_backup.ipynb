{
 "cells": [
  {
   "cell_type": "code",
   "execution_count": null,
   "id": "8715b214-2783-4138-a803-4b07aa091279",
   "metadata": {
    "tags": []
   },
   "outputs": [],
   "source": [
    "import os\n",
    "\n",
    "# Change to the target directory\n",
    "os.chdir('/g/data/jk72/zc0441/Subject_1/Files_for_backup/')\n",
    "\n",
    "# # Initialize a new Git repository\n",
    "# os.system('git init')\n",
    "\n",
    "# Add all files to the Git repository\n",
    "os.system('git add .')\n",
    "\n",
    "# Commit the changes\n",
    "os.system('git commit -m \"Back up\"')\n",
    "\n",
    "# # Add a remote repository\n",
    "# remote_url = 'git@github.com:ZJhin/CMIP6-code.git'  # Replace with your remote repository URL\n",
    "# os.system(f'git remote add origin {remote_url}')\n",
    "\n",
    "# Push the commits to the remote repository\n",
    "os.system('git push origin main')"
   ]
  },
  {
   "cell_type": "code",
   "execution_count": null,
   "id": "a2f9c39c-3c95-45a5-a2df-9e6c91cfb0b2",
   "metadata": {},
   "outputs": [],
   "source": []
  }
 ],
 "metadata": {
  "kernelspec": {
   "display_name": "Python 3 (ipykernel)",
   "language": "python",
   "name": "python3"
  },
  "language_info": {
   "codemirror_mode": {
    "name": "ipython",
    "version": 3
   },
   "file_extension": ".py",
   "mimetype": "text/x-python",
   "name": "python",
   "nbconvert_exporter": "python",
   "pygments_lexer": "ipython3",
   "version": "3.9.15"
  }
 },
 "nbformat": 4,
 "nbformat_minor": 5
}
